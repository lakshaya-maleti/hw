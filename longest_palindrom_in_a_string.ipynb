{
  "nbformat": 4,
  "nbformat_minor": 0,
  "metadata": {
    "colab": {
      "provenance": []
    },
    "kernelspec": {
      "name": "python3",
      "display_name": "Python 3"
    },
    "language_info": {
      "name": "python"
    }
  },
  "cells": [
    {
      "cell_type": "code",
      "execution_count": 1,
      "metadata": {
        "colab": {
          "base_uri": "https://localhost:8080/"
        },
        "id": "LfLkREYbiMLw",
        "outputId": "a7f0c3b1-d97c-4a29-dfd3-fee6ab8e92f0"
      },
      "outputs": [
        {
          "output_type": "stream",
          "name": "stdout",
          "text": [
            "5 asasa\n"
          ]
        }
      ],
      "source": [
        "#     Longest Palindrom in a String (MY Way)  using dp    time complexity O(n^2) , space complexity O(n^2)\n",
        "\n",
        "def maxpalindrom(s):\n",
        "  n=len(s)\n",
        "  maxlength=0\n",
        "  ans=''\n",
        "  dp = [[0]*n for _ in range(n)]                  #  creates a two-dimensional list (also known as a matrix) called dp with dimensions n x n.\n",
        "  for diff in range(n):\n",
        "    for i in range(n-diff):\n",
        "      j=i+diff                                                                # matrix=[]\n",
        "                                                                              # for i in range(n)      Intitalise each row with zero entry of a 2d matrix\n",
        "      if i==j:                                                                #   row = [0]*n\n",
        "        dp[i][j]=1                                                            #    matrix.append(row)\n",
        "\n",
        "      elif diff ==1:\n",
        "        if s[i]==s[j]:\n",
        "          dp[i][j]=2\n",
        "        else: 0\n",
        "\n",
        "      else:\n",
        "        if s[i]==s[j] and dp[i+1][j-1]:\n",
        "          dp[i][j] = dp[i+1][j-1] + 2\n",
        "\n",
        "      if j-i+1 > maxlength :\n",
        "        maxlength = j-i+1\n",
        "        ans = s[i:i+maxlength]\n",
        "  print(maxlength,ans)\n",
        "\n",
        "maxpalindrom('asasa')\n",
        "\n"
      ]
    },
    {
      "cell_type": "code",
      "source": [
        "\n",
        "# Same as my    time complexity O(n^2) , space complexity O(n^2)\n",
        "\n",
        "s=\"asasasa\"\n",
        "n = len(s)\n",
        "maxlength = 0\n",
        "ans = \"\"\n",
        "dp = [[0] * n for _ in range(n)]\n",
        "\n",
        "for diff in range(n):\n",
        "    for i in range(n - diff):\n",
        "        j = i + diff\n",
        "\n",
        "        if i == j:\n",
        "            dp[i][j] = 1\n",
        "        elif diff == 1:\n",
        "            dp[i][j] = 2 if s[i] == s[j] else 0\n",
        "        else:\n",
        "            if s[i] == s[j] and dp[i + 1][j - 1]:\n",
        "                dp[i][j] = dp[i + 1][j - 1] + 2\n",
        "\n",
        "        if dp[i][j]:\n",
        "            if j - i + 1 > maxlength:\n",
        "                maxlength = j - i + 1\n",
        "                ans = s[i:i + maxlength]\n",
        "\n",
        "print(maxlength,ans)\n"
      ],
      "metadata": {
        "colab": {
          "base_uri": "https://localhost:8080/"
        },
        "id": "47vpvCp3itUH",
        "outputId": "8d9d4888-310d-40b2-8a84-c10abfc7d1f5"
      },
      "execution_count": 2,
      "outputs": [
        {
          "output_type": "stream",
          "name": "stdout",
          "text": [
            "7 asasasa\n"
          ]
        }
      ]
    },
    {
      "cell_type": "code",
      "source": [
        "# different approach using dp    time complexity O(n^2) , space complexity O(1)\n",
        "\n",
        "class Solution:\n",
        "    def longestPalin(self, S):\n",
        "        n = len(S)\n",
        "        start = 0\n",
        "        maxLength = 1\n",
        "\n",
        "        # Function to expand around the center\n",
        "        def expandAroundCenter(left, right):\n",
        "            nonlocal start, maxLength\n",
        "            while left >= 0 and right < n and S[left] == S[right]:\n",
        "                left -= 1\n",
        "                right += 1\n",
        "            length = right - left - 1\n",
        "            if length > maxLength:\n",
        "                maxLength = length\n",
        "                start = left + 1\n",
        "\n",
        "        for i in range(n):\n",
        "            # Check for odd-length palindromes\n",
        "            expandAroundCenter(i, i)\n",
        "\n",
        "            # Check for even-length palindromes\n",
        "            expandAroundCenter(i, i + 1)\n",
        "\n",
        "        return S[start:start + maxLength]"
      ],
      "metadata": {
        "id": "Xusgblaii0cG"
      },
      "execution_count": null,
      "outputs": []
    }
  ]
}